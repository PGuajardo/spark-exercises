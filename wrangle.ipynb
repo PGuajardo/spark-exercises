{
 "cells": [
  {
   "cell_type": "code",
   "execution_count": 1,
   "id": "04ae528b",
   "metadata": {},
   "outputs": [],
   "source": [
    "from pyspark.sql import SparkSession\n",
    "from pyspark.sql.functions import *"
   ]
  },
  {
   "cell_type": "markdown",
   "id": "9af37b2b",
   "metadata": {},
   "source": [
    "!. How old is the latest (in terms of days past SLA) currently open issue? How long has the oldest (in terms of days since opened) currently opened issue been open?\n",
    "\n",
    "2. How many Stray Animal cases are there?\n",
    "\n",
    "3. How many service requests that are assigned to the Field Operations department (dept_division) are not classified as \"Officer Standby\" request type (service_request_type)?\n",
    "\n",
    "4. Convert the council_district column to a string column.\n",
    "\n",
    "5. Extract the year from the case_closed_date column.\n",
    "\n",
    "6. Convert num_days_late from days to hours in new columns num_hours_late.\n",
    "\n",
    "7. Join the case data with the source and department data.\n",
    "\n",
    "8. Are there any cases that do not have a request source?\n",
    "\n",
    "9. What are the top 10 service request types in terms of number of requests?\n",
    "\n",
    "10. What are the top 10 service request types in terms of average days late?\n",
    "\n",
    "11. Does number of days late depend on department?\n",
    "\n",
    "12. How do number of days late depend on department and request type?"
   ]
  },
  {
   "cell_type": "code",
   "execution_count": 2,
   "id": "cdfc63ed",
   "metadata": {},
   "outputs": [],
   "source": [
    "spark = SparkSession.builder.getOrCreate()"
   ]
  },
  {
   "cell_type": "code",
   "execution_count": 5,
   "id": "4924edf8",
   "metadata": {},
   "outputs": [],
   "source": [
    "from pyspark.sql.types import StructType, StructField, StringType"
   ]
  },
  {
   "cell_type": "code",
   "execution_count": 18,
   "id": "ceaab27b",
   "metadata": {},
   "outputs": [],
   "source": [
    "schema = StructType(\n",
    "    [\n",
    "        StructField(\"source_id\", StringType()),\n",
    "        StructField(\"source_username\", StringType()),\n",
    "        \n",
    "    ]\n",
    ")"
   ]
  },
  {
   "cell_type": "code",
   "execution_count": 19,
   "id": "311a0f0b",
   "metadata": {},
   "outputs": [],
   "source": [
    "source = spark.read.csv(\"source.csv\",\n",
    "                        header =True,\n",
    "                        schema = schema)\n",
    "         "
   ]
  },
  {
   "cell_type": "code",
   "execution_count": 20,
   "id": "2dc49e08",
   "metadata": {},
   "outputs": [],
   "source": [
    "case_csv = spark.read.csv(\"case.csv\", header = True, inferSchema = True)"
   ]
  },
  {
   "cell_type": "code",
   "execution_count": 21,
   "id": "f7f53a00",
   "metadata": {},
   "outputs": [],
   "source": [
    "dept_csv = spark.read.csv(\"dept.csv\",\n",
    "                     header = True,\n",
    "                     schema = schema)"
   ]
  },
  {
   "cell_type": "code",
   "execution_count": 29,
   "id": "b34c81ca",
   "metadata": {},
   "outputs": [],
   "source": [
    "source.write.json(\"source_json\", mode = \"overwrite\")"
   ]
  },
  {
   "cell_type": "code",
   "execution_count": 30,
   "id": "08b0f3e5",
   "metadata": {},
   "outputs": [],
   "source": [
    "case.write.json(\"case_json\", mode = \"overwrite\")"
   ]
  },
  {
   "cell_type": "code",
   "execution_count": 31,
   "id": "dd97d53f",
   "metadata": {},
   "outputs": [],
   "source": [
    "dept.write.json(\"dept_json\", mode = \"overwrite\")"
   ]
  },
  {
   "cell_type": "code",
   "execution_count": 32,
   "id": "4c3b2a49",
   "metadata": {},
   "outputs": [],
   "source": [
    "source.write.csv(\"source_csv\", mode = \"overwrite\")\n",
    "\n",
    "case.write.csv(\"case_csv\", mode = \"overwrite\")\n",
    "\n",
    "dept.write.csv(\"dept_csv\", mode = \"overwrite\")"
   ]
  },
  {
   "cell_type": "markdown",
   "id": "2958fb7f",
   "metadata": {},
   "source": [
    "# 1. How old is the latest (in terms of days past SLA) currently open issue? How long has the oldest (in terms of days since opened) currently opened issue been open?"
   ]
  },
  {
   "cell_type": "code",
   "execution_count": 35,
   "id": "9db45540",
   "metadata": {},
   "outputs": [
    {
     "name": "stdout",
     "output_type": "stream",
     "text": [
      "+------------+\n",
      "|SLA_due_date|\n",
      "+------------+\n",
      "|9/26/20 0:42|\n",
      "| 1/5/18 8:30|\n",
      "| 1/5/18 8:30|\n",
      "|1/17/18 8:30|\n",
      "| 1/1/18 4:34|\n",
      "+------------+\n",
      "only showing top 5 rows\n",
      "\n"
     ]
    }
   ],
   "source": [
    "case.select(\"SLA_due_date\").show(5)"
   ]
  },
  {
   "cell_type": "code",
   "execution_count": 36,
   "id": "eda7d75f",
   "metadata": {},
   "outputs": [],
   "source": [
    "case = case.withColumnRenamed(\"SLA_due_date\", \"case_due_date\")"
   ]
  },
  {
   "cell_type": "code",
   "execution_count": 37,
   "id": "69badb16",
   "metadata": {},
   "outputs": [
    {
     "name": "stdout",
     "output_type": "stream",
     "text": [
      "+-----------+---------+------+\n",
      "|case_closed|case_late| count|\n",
      "+-----------+---------+------+\n",
      "|         NO|      YES|  6525|\n",
      "|        YES|      YES| 87978|\n",
      "|         NO|       NO| 11585|\n",
      "|        YES|       NO|735616|\n",
      "+-----------+---------+------+\n",
      "\n"
     ]
    }
   ],
   "source": [
    "case.groupBy(\"case_closed\", \"case_late\").count().show()"
   ]
  },
  {
   "cell_type": "code",
   "execution_count": 41,
   "id": "72045dc3",
   "metadata": {},
   "outputs": [],
   "source": [
    "fmt = \"M/d/yy H:mm\"\n",
    "\n",
    "case = case.withColumn(\"case_opened_date\", to_timestamp(\"case_opened_date\", fmt))\\\n",
    ".withColumn(\"case_closed_date\", to_timestamp(\"case_closed_date\", fmt))\\\n",
    ".withColumn(\"case_due_date\", to_timestamp(\"case_due_date\", fmt))"
   ]
  },
  {
   "cell_type": "code",
   "execution_count": 42,
   "id": "054d45bf",
   "metadata": {},
   "outputs": [],
   "source": [
    "# getting the number of days late\n",
    "case = case.withColumn(\"num_weeks_late\", expr(\"num_days_late / 7\"))"
   ]
  },
  {
   "cell_type": "code",
   "execution_count": 44,
   "id": "4c495d73",
   "metadata": {},
   "outputs": [
    {
     "name": "stdout",
     "output_type": "stream",
     "text": [
      "+-------------------+-------------------+-------------------+\n",
      "|   case_opened_date|   case_closed_date|      case_due_date|\n",
      "+-------------------+-------------------+-------------------+\n",
      "|2018-01-01 00:42:00|2018-01-01 12:29:00|2020-09-26 00:42:00|\n",
      "|2018-01-01 00:46:00|2018-01-03 08:11:00|2018-01-05 08:30:00|\n",
      "|2018-01-01 00:48:00|2018-01-02 07:57:00|2018-01-05 08:30:00|\n",
      "|2018-01-01 01:29:00|2018-01-02 08:13:00|2018-01-17 08:30:00|\n",
      "|2018-01-01 01:34:00|2018-01-01 13:29:00|2018-01-01 04:34:00|\n",
      "+-------------------+-------------------+-------------------+\n",
      "only showing top 5 rows\n",
      "\n"
     ]
    }
   ],
   "source": [
    "case.select(case.columns[1:4]).show(5)"
   ]
  },
  {
   "cell_type": "code",
   "execution_count": 45,
   "id": "08d85a42",
   "metadata": {},
   "outputs": [
    {
     "name": "stdout",
     "output_type": "stream",
     "text": [
      "+-------------------+--------------------+\n",
      "|      num_days_late|      num_weeks_late|\n",
      "+-------------------+--------------------+\n",
      "| -998.5087616000001|        -142.6441088|\n",
      "|-2.0126041669999997|-0.28751488099999994|\n",
      "|       -3.022337963|-0.43176256614285713|\n",
      "+-------------------+--------------------+\n",
      "only showing top 3 rows\n",
      "\n"
     ]
    }
   ],
   "source": [
    "case.select(\"num_days_late\", \"num_weeks_late\").show(3)"
   ]
  },
  {
   "cell_type": "code",
   "execution_count": 49,
   "id": "9aa138e5",
   "metadata": {},
   "outputs": [
    {
     "name": "stdout",
     "output_type": "stream",
     "text": [
      "+-------------------+-------------------+\n",
      "|      case_due_date| min(case_due_date)|\n",
      "+-------------------+-------------------+\n",
      "|2018-01-02 03:25:00|2018-01-02 03:25:00|\n",
      "|2018-01-06 16:41:00|2018-01-06 16:41:00|\n",
      "|2018-01-11 14:45:00|2018-01-11 14:45:00|\n",
      "|2020-09-27 17:39:00|2020-09-27 17:39:00|\n",
      "|2018-01-18 08:49:00|2018-01-18 08:49:00|\n",
      "+-------------------+-------------------+\n",
      "only showing top 5 rows\n",
      "\n"
     ]
    }
   ],
   "source": [
    "case.groupBy(\"case_due_date\").agg(min(\"case_due_date\")).withColumn().show(5)"
   ]
  },
  {
   "cell_type": "code",
   "execution_count": 51,
   "id": "6ed6fa59",
   "metadata": {},
   "outputs": [],
   "source": [
    "# gettting age as a feature\n",
    "case = case.withColumn(\"case_age\", datediff(current_timestamp(), \"case_opened_date\"))"
   ]
  },
  {
   "cell_type": "code",
   "execution_count": 52,
   "id": "1979e073",
   "metadata": {},
   "outputs": [
    {
     "name": "stdout",
     "output_type": "stream",
     "text": [
      "+--------+-------------------+\n",
      "|case_age|   case_opened_date|\n",
      "+--------+-------------------+\n",
      "|    1505|2018-01-01 00:42:00|\n",
      "|    1505|2018-01-01 00:46:00|\n",
      "|    1505|2018-01-01 00:48:00|\n",
      "|    1505|2018-01-01 01:29:00|\n",
      "|    1505|2018-01-01 01:34:00|\n",
      "+--------+-------------------+\n",
      "only showing top 5 rows\n",
      "\n"
     ]
    }
   ],
   "source": [
    "case.select(\"case_age\", \"case_opened_date\").show(5)"
   ]
  },
  {
   "cell_type": "markdown",
   "id": "d5479145",
   "metadata": {},
   "source": [
    "# 2. How many Stray Animal cases are there?"
   ]
  },
  {
   "cell_type": "code",
   "execution_count": 53,
   "id": "a2d91747",
   "metadata": {},
   "outputs": [
    {
     "name": "stdout",
     "output_type": "stream",
     "text": [
      "+--------------------+--------------------+\n",
      "|           source_id|     source_username|\n",
      "+--------------------+--------------------+\n",
      "|     311 Call Center|    Customer Service|\n",
      "|               Brush|Solid Waste Manag...|\n",
      "|     Clean and Green|Parks and Recreation|\n",
      "|Clean and Green N...|Parks and Recreation|\n",
      "|    Code Enforcement|Code Enforcement ...|\n",
      "+--------------------+--------------------+\n",
      "only showing top 5 rows\n",
      "\n"
     ]
    }
   ],
   "source": [
    "dept.show(5)"
   ]
  },
  {
   "cell_type": "code",
   "execution_count": 54,
   "id": "c1017eb7",
   "metadata": {},
   "outputs": [
    {
     "name": "stdout",
     "output_type": "stream",
     "text": [
      "+---------+----------------+\n",
      "|source_id| source_username|\n",
      "+---------+----------------+\n",
      "|   100137|Merlene Blodgett|\n",
      "|   103582|     Carmen Cura|\n",
      "|   106463| Richard Sanchez|\n",
      "|   119403|  Betty De Hoyos|\n",
      "|   119555|  Socorro Quiara|\n",
      "+---------+----------------+\n",
      "only showing top 5 rows\n",
      "\n"
     ]
    }
   ],
   "source": [
    "source.show(5)"
   ]
  },
  {
   "cell_type": "code",
   "execution_count": 55,
   "id": "1852e99e",
   "metadata": {},
   "outputs": [
    {
     "name": "stdout",
     "output_type": "stream",
     "text": [
      "+----------+-------------------+-------------------+-------------------+---------+-------------------+-----------+----------------+--------------------+-----------+-----------+---------+--------------------+----------------+--------------------+--------+\n",
      "|   case_id|   case_opened_date|   case_closed_date|      case_due_date|case_late|      num_days_late|case_closed|   dept_division|service_request_type|   SLA_days|case_status|source_id|     request_address|council_district|      num_weeks_late|case_age|\n",
      "+----------+-------------------+-------------------+-------------------+---------+-------------------+-----------+----------------+--------------------+-----------+-----------+---------+--------------------+----------------+--------------------+--------+\n",
      "|1014127332|2018-01-01 00:42:00|2018-01-01 12:29:00|2020-09-26 00:42:00|       NO| -998.5087616000001|        YES|Field Operations|        Stray Animal|      999.0|     Closed| svcCRMLS|2315  EL PASO ST,...|               5|        -142.6441088|    1505|\n",
      "|1014127333|2018-01-01 00:46:00|2018-01-03 08:11:00|2018-01-05 08:30:00|       NO|-2.0126041669999997|        YES|     Storm Water|Removal Of Obstru...|4.322222222|     Closed| svcCRMSS|2215  GOLIAD RD, ...|               3|-0.28751488099999994|    1505|\n",
      "|1014127334|2018-01-01 00:48:00|2018-01-02 07:57:00|2018-01-05 08:30:00|       NO|       -3.022337963|        YES|     Storm Water|Removal Of Obstru...|4.320729167|     Closed| svcCRMSS|102  PALFREY ST W...|               3|-0.43176256614285713|    1505|\n",
      "|1014127335|2018-01-01 01:29:00|2018-01-02 08:13:00|2018-01-17 08:30:00|       NO|       -15.01148148|        YES|Code Enforcement|Front Or Side Yar...|16.29188657|     Closed| svcCRMSS|114  LA GARDE ST,...|               3| -2.1444973542857144|    1505|\n",
      "|1014127336|2018-01-01 01:34:00|2018-01-01 13:29:00|2018-01-01 04:34:00|      YES|0.37216435200000003|        YES|Field Operations|Animal Cruelty(Cr...|      0.125|     Closed| svcCRMSS|734  CLEARVIEW DR...|               7|         0.053166336|    1505|\n",
      "+----------+-------------------+-------------------+-------------------+---------+-------------------+-----------+----------------+--------------------+-----------+-----------+---------+--------------------+----------------+--------------------+--------+\n",
      "only showing top 5 rows\n",
      "\n"
     ]
    }
   ],
   "source": [
    "case.show(5)"
   ]
  },
  {
   "cell_type": "code",
   "execution_count": null,
   "id": "ead7e71b",
   "metadata": {},
   "outputs": [],
   "source": []
  }
 ],
 "metadata": {
  "kernelspec": {
   "display_name": "Python 3",
   "language": "python",
   "name": "python3"
  },
  "language_info": {
   "codemirror_mode": {
    "name": "ipython",
    "version": 3
   },
   "file_extension": ".py",
   "mimetype": "text/x-python",
   "name": "python",
   "nbconvert_exporter": "python",
   "pygments_lexer": "ipython3",
   "version": "3.8.8"
  }
 },
 "nbformat": 4,
 "nbformat_minor": 5
}
