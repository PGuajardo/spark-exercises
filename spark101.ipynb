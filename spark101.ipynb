{
 "cells": [
  {
   "cell_type": "code",
   "execution_count": 4,
   "id": "40c8b701",
   "metadata": {},
   "outputs": [
    {
     "data": {
      "text/plain": [
       "DataFrame[Languages: string]"
      ]
     },
     "execution_count": 4,
     "metadata": {},
     "output_type": "execute_result"
    }
   ],
   "source": [
    "import pyspark\n",
    "import numpy as np\n",
    "import pandas as pd\n",
    "\n",
    "spark = pyspark.sql.SparkSession.builder.getOrCreate()\n",
    "\n",
    "data_langauge = {'Languages': ['python', 'sql', 'c', 'c#', 'java', 'machine langauge', 'html', 'css']}\n",
    "languages = pd.DataFrame(data = data_langauge)\n",
    "\n",
    "df = spark.createDataFrame(languages)\n",
    "df"
   ]
  },
  {
   "cell_type": "code",
   "execution_count": 5,
   "id": "05449e93",
   "metadata": {},
   "outputs": [
    {
     "name": "stdout",
     "output_type": "stream",
     "text": [
      "+---------+\n",
      "|Languages|\n",
      "+---------+\n",
      "|   python|\n",
      "|      sql|\n",
      "|        c|\n",
      "|       c#|\n",
      "|     java|\n",
      "+---------+\n",
      "only showing top 5 rows\n",
      "\n"
     ]
    }
   ],
   "source": [
    "df.show(5)"
   ]
  },
  {
   "cell_type": "code",
   "execution_count": 8,
   "id": "000c850f",
   "metadata": {},
   "outputs": [
    {
     "name": "stdout",
     "output_type": "stream",
     "text": [
      "+-------+---------+\n",
      "|summary|Languages|\n",
      "+-------+---------+\n",
      "|  count|        8|\n",
      "|   mean|     null|\n",
      "| stddev|     null|\n",
      "|    min|        c|\n",
      "|    max|      sql|\n",
      "+-------+---------+\n",
      "\n"
     ]
    }
   ],
   "source": [
    "df.describe().show()"
   ]
  },
  {
   "cell_type": "code",
   "execution_count": 11,
   "id": "60839ee0",
   "metadata": {},
   "outputs": [
    {
     "name": "stdout",
     "output_type": "stream",
     "text": [
      "DataFrame shape:  8  x  1\n"
     ]
    }
   ],
   "source": [
    "print(\"DataFrame shape: \", df.count(), \" x \", len(df.columns))"
   ]
  },
  {
   "cell_type": "code",
   "execution_count": 12,
   "id": "2d3a46af",
   "metadata": {},
   "outputs": [],
   "source": [
    "# Lets work with mpg data set"
   ]
  },
  {
   "cell_type": "code",
   "execution_count": 13,
   "id": "ee202c70",
   "metadata": {},
   "outputs": [],
   "source": [
    "from pydataset import data"
   ]
  },
  {
   "cell_type": "code",
   "execution_count": 25,
   "id": "9d06851b",
   "metadata": {},
   "outputs": [],
   "source": [
    "mpg.createOrReplaceTempView(\"mpg\")"
   ]
  },
  {
   "cell_type": "code",
   "execution_count": 26,
   "id": "41b994aa",
   "metadata": {},
   "outputs": [
    {
     "name": "stdout",
     "output_type": "stream",
     "text": [
      "+---+---+----+\n",
      "|hwy|cty| Avg|\n",
      "+---+---+----+\n",
      "| 29| 18|23.5|\n",
      "| 29| 21|25.0|\n",
      "| 31| 20|25.5|\n",
      "| 30| 21|25.5|\n",
      "| 26| 16|21.0|\n",
      "+---+---+----+\n",
      "only showing top 5 rows\n",
      "\n"
     ]
    }
   ],
   "source": [
    "spark.sql(\"\"\"\n",
    "SELECT hwy , cty, (hwy+ cty) / 2 as Avg\n",
    "FROM mpg\n",
    "\"\"\").show(5)"
   ]
  },
  {
   "cell_type": "code",
   "execution_count": 27,
   "id": "c68be324",
   "metadata": {},
   "outputs": [
    {
     "name": "stdout",
     "output_type": "stream",
     "text": [
      "+------------+-----+-----+----+---+----------+---+---+---+---+-------+\n",
      "|manufacturer|model|displ|year|cyl|     trans|drv|cty|hwy| fl|  class|\n",
      "+------------+-----+-----+----+---+----------+---+---+---+---+-------+\n",
      "|        audi|   a4|  1.8|1999|  4|  auto(l5)|  f| 18| 29|  p|compact|\n",
      "|        audi|   a4|  1.8|1999|  4|manual(m5)|  f| 21| 29|  p|compact|\n",
      "|        audi|   a4|  2.0|2008|  4|manual(m6)|  f| 20| 31|  p|compact|\n",
      "|        audi|   a4|  2.0|2008|  4|  auto(av)|  f| 21| 30|  p|compact|\n",
      "|        audi|   a4|  2.8|1999|  6|  auto(l5)|  f| 16| 26|  p|compact|\n",
      "+------------+-----+-----+----+---+----------+---+---+---+---+-------+\n",
      "only showing top 5 rows\n",
      "\n"
     ]
    }
   ],
   "source": [
    "spark.sql(\"\"\"\n",
    "SELECT *\n",
    "FROM mpg\n",
    "\"\"\").show(5)"
   ]
  },
  {
   "cell_type": "code",
   "execution_count": 28,
   "id": "b880063a",
   "metadata": {},
   "outputs": [],
   "source": [
    "### Create columns of output that contains message\n",
    "# The year manugactureer model has a cyl cylinder engine."
   ]
  },
  {
   "cell_type": "code",
   "execution_count": 84,
   "id": "81f1df7a",
   "metadata": {},
   "outputs": [],
   "source": [
    "from pyspark.sql.functions import *"
   ]
  },
  {
   "cell_type": "code",
   "execution_count": 49,
   "id": "c1061be7",
   "metadata": {},
   "outputs": [
    {
     "name": "stdout",
     "output_type": "stream",
     "text": [
      "+------------------------------------------------------------------------------+\n",
      "|concat(The , year,  , manufacturer,  , model,  has a , cyl,  cylinder engine.)|\n",
      "+------------------------------------------------------------------------------+\n",
      "|The 1999 audi a4 has a 4 cylinder engine.                                     |\n",
      "+------------------------------------------------------------------------------+\n",
      "only showing top 1 row\n",
      "\n"
     ]
    }
   ],
   "source": [
    "mpg.select(concat(lit(\"The \"), col(\"year\"), lit(\" \"),\n",
    "          col(\"manufacturer\"), lit(\" \"),\n",
    "          col(\"model\"), lit(\" has a \"),\n",
    "          col(\"cyl\"), lit(\" cylinder engine.\"))).show(1, truncate = False)"
   ]
  },
  {
   "cell_type": "code",
   "execution_count": 43,
   "id": "c6863735",
   "metadata": {},
   "outputs": [
    {
     "name": "stdout",
     "output_type": "stream",
     "text": [
      "+------------+----------+-----+----+---+--------+---+---+---+---+-------+\n",
      "|manufacturer|     model|displ|year|cyl|   trans|drv|cty|hwy| fl|  class|\n",
      "+------------+----------+-----+----+---+--------+---+---+---+---+-------+\n",
      "|        audi|        a4|  1.8|1999|  4|auto(l5)|  f| 18| 29|  p|compact|\n",
      "|        audi|        a4|  2.0|2008|  4|auto(av)|  f| 21| 30|  p|compact|\n",
      "|        audi|        a4|  2.8|1999|  6|auto(l5)|  f| 16| 26|  p|compact|\n",
      "|        audi|        a4|  3.1|2008|  6|auto(av)|  f| 18| 27|  p|compact|\n",
      "|        audi|a4 quattro|  1.8|1999|  4|auto(l5)|  4| 16| 25|  p|compact|\n",
      "+------------+----------+-----+----+---+--------+---+---+---+---+-------+\n",
      "only showing top 5 rows\n",
      "\n"
     ]
    }
   ],
   "source": [
    "mpg.where(mpg[\"trans\"].like(\"auto%\")).show(5)"
   ]
  },
  {
   "cell_type": "code",
   "execution_count": 47,
   "id": "7a7fdbf7",
   "metadata": {},
   "outputs": [
    {
     "name": "stdout",
     "output_type": "stream",
     "text": [
      "+----------+----------+\n",
      "|     trans|trans type|\n",
      "+----------+----------+\n",
      "|  auto(l5)|      auto|\n",
      "|manual(m5)|    manual|\n",
      "|manual(m6)|    manual|\n",
      "|  auto(av)|      auto|\n",
      "|  auto(l5)|      auto|\n",
      "+----------+----------+\n",
      "only showing top 5 rows\n",
      "\n"
     ]
    }
   ],
   "source": [
    "mpg.select(mpg.trans,\n",
    "           when(mpg.trans.like(\"auto%\"), \"auto\")\n",
    "                    .otherwise(\"manual\")\n",
    "           .alias(\"trans type\")).show(5)"
   ]
  },
  {
   "cell_type": "markdown",
   "id": "bd902802",
   "metadata": {},
   "source": [
    "# Part 3"
   ]
  },
  {
   "cell_type": "code",
   "execution_count": 51,
   "id": "1a15b424",
   "metadata": {},
   "outputs": [
    {
     "name": "stdout",
     "output_type": "stream",
     "text": [
      "+----------+----+------+------+---+------+----+\n",
      "|total_bill| tip|   sex|smoker|day|  time|size|\n",
      "+----------+----+------+------+---+------+----+\n",
      "|     16.99|1.01|Female|    No|Sun|Dinner|   2|\n",
      "|     10.34|1.66|  Male|    No|Sun|Dinner|   3|\n",
      "|     21.01| 3.5|  Male|    No|Sun|Dinner|   3|\n",
      "|     23.68|3.31|  Male|    No|Sun|Dinner|   2|\n",
      "|     24.59|3.61|Female|    No|Sun|Dinner|   4|\n",
      "+----------+----+------+------+---+------+----+\n",
      "only showing top 5 rows\n",
      "\n"
     ]
    }
   ],
   "source": [
    "tips = spark.createDataFrame(data(\"tips\"))\n",
    "tips.show(5)"
   ]
  },
  {
   "cell_type": "code",
   "execution_count": 52,
   "id": "6291f103",
   "metadata": {},
   "outputs": [],
   "source": [
    "# part a"
   ]
  },
  {
   "cell_type": "code",
   "execution_count": 53,
   "id": "4726ea74",
   "metadata": {},
   "outputs": [
    {
     "data": {
      "text/plain": [
       "<pyspark.sql.group.GroupedData at 0x7fecbe1f3310>"
      ]
     },
     "execution_count": 53,
     "metadata": {},
     "output_type": "execute_result"
    }
   ],
   "source": [
    "tips.groupBy(tips.smoker).agg(avg(tips.))"
   ]
  },
  {
   "cell_type": "code",
   "execution_count": 60,
   "id": "879fa30d",
   "metadata": {},
   "outputs": [
    {
     "ename": "SyntaxError",
     "evalue": "unexpected EOF while parsing (<ipython-input-60-04c4e3eb77cc>, line 1)",
     "output_type": "error",
     "traceback": [
      "\u001b[0;36m  File \u001b[0;32m\"<ipython-input-60-04c4e3eb77cc>\"\u001b[0;36m, line \u001b[0;32m1\u001b[0m\n\u001b[0;31m    tips.groupBy(\"smoker\").agg(avg(tips.smoker).withColumn(\"smoker\", lit(\"Yes\")).show()\u001b[0m\n\u001b[0m                                                                                       ^\u001b[0m\n\u001b[0;31mSyntaxError\u001b[0m\u001b[0;31m:\u001b[0m unexpected EOF while parsing\n"
     ]
    }
   ],
   "source": [
    "tips.groupBy(\"smoker\").agg(avg(tips.smoker).withColumn(\"smoker\", lit(\"Yes\")).show()"
   ]
  },
  {
   "cell_type": "code",
   "execution_count": 64,
   "id": "43abef58",
   "metadata": {},
   "outputs": [
    {
     "ename": "AnalysisException",
     "evalue": "Resolved attribute(s) smoker#514 missing from total_bill#511,tip#512,sex#513,smoker#679,day#515,time#516,size#517L in operator !Aggregate [smoker#514], [smoker#514, avg(cast(smoker#514 as double)) AS avg(smoker)#695]. Attribute(s) with the same name appear in the operation: smoker. Please check if the right attribute(s) are used.;\n!Aggregate [smoker#514], [smoker#514, avg(cast(smoker#514 as double)) AS avg(smoker)#695]\n+- Project [total_bill#511, tip#512, sex#513, Yes AS smoker#679, day#515, time#516, size#517L]\n   +- LogicalRDD [total_bill#511, tip#512, sex#513, smoker#514, day#515, time#516, size#517L], false\n",
     "output_type": "error",
     "traceback": [
      "\u001b[0;31m---------------------------------------------------------------------------\u001b[0m",
      "\u001b[0;31mAnalysisException\u001b[0m                         Traceback (most recent call last)",
      "\u001b[0;32m<ipython-input-64-a7c5a07ebeda>\u001b[0m in \u001b[0;36m<module>\u001b[0;34m\u001b[0m\n\u001b[0;32m----> 1\u001b[0;31m \u001b[0mtips\u001b[0m\u001b[0;34m.\u001b[0m\u001b[0mwithColumn\u001b[0m\u001b[0;34m(\u001b[0m\u001b[0;34m\"smoker\"\u001b[0m\u001b[0;34m,\u001b[0m \u001b[0mlit\u001b[0m\u001b[0;34m(\u001b[0m\u001b[0;34m\"Yes\"\u001b[0m\u001b[0;34m)\u001b[0m\u001b[0;34m)\u001b[0m\u001b[0;34m.\u001b[0m\u001b[0mgroupBy\u001b[0m\u001b[0;34m(\u001b[0m\u001b[0mtips\u001b[0m\u001b[0;34m.\u001b[0m\u001b[0msmoker\u001b[0m\u001b[0;34m)\u001b[0m\u001b[0;34m.\u001b[0m\u001b[0magg\u001b[0m\u001b[0;34m(\u001b[0m\u001b[0mavg\u001b[0m\u001b[0;34m(\u001b[0m\u001b[0mtips\u001b[0m\u001b[0;34m.\u001b[0m\u001b[0msmoker\u001b[0m\u001b[0;34m)\u001b[0m\u001b[0;34m)\u001b[0m\u001b[0;34m.\u001b[0m\u001b[0mshow\u001b[0m\u001b[0;34m(\u001b[0m\u001b[0;34m)\u001b[0m\u001b[0;34m\u001b[0m\u001b[0;34m\u001b[0m\u001b[0m\n\u001b[0m",
      "\u001b[0;32m/usr/local/anaconda3/lib/python3.8/site-packages/pyspark/sql/group.py\u001b[0m in \u001b[0;36magg\u001b[0;34m(self, *exprs)\u001b[0m\n\u001b[1;32m    116\u001b[0m             \u001b[0;31m# Columns\u001b[0m\u001b[0;34m\u001b[0m\u001b[0;34m\u001b[0m\u001b[0;34m\u001b[0m\u001b[0m\n\u001b[1;32m    117\u001b[0m             \u001b[0;32massert\u001b[0m \u001b[0mall\u001b[0m\u001b[0;34m(\u001b[0m\u001b[0misinstance\u001b[0m\u001b[0;34m(\u001b[0m\u001b[0mc\u001b[0m\u001b[0;34m,\u001b[0m \u001b[0mColumn\u001b[0m\u001b[0;34m)\u001b[0m \u001b[0;32mfor\u001b[0m \u001b[0mc\u001b[0m \u001b[0;32min\u001b[0m \u001b[0mexprs\u001b[0m\u001b[0;34m)\u001b[0m\u001b[0;34m,\u001b[0m \u001b[0;34m\"all exprs should be Column\"\u001b[0m\u001b[0;34m\u001b[0m\u001b[0;34m\u001b[0m\u001b[0m\n\u001b[0;32m--> 118\u001b[0;31m             jdf = self._jgd.agg(exprs[0]._jc,\n\u001b[0m\u001b[1;32m    119\u001b[0m                                 _to_seq(self.sql_ctx._sc, [c._jc for c in exprs[1:]]))\n\u001b[1;32m    120\u001b[0m         \u001b[0;32mreturn\u001b[0m \u001b[0mDataFrame\u001b[0m\u001b[0;34m(\u001b[0m\u001b[0mjdf\u001b[0m\u001b[0;34m,\u001b[0m \u001b[0mself\u001b[0m\u001b[0;34m.\u001b[0m\u001b[0msql_ctx\u001b[0m\u001b[0;34m)\u001b[0m\u001b[0;34m\u001b[0m\u001b[0;34m\u001b[0m\u001b[0m\n",
      "\u001b[0;32m/usr/local/anaconda3/lib/python3.8/site-packages/py4j/java_gateway.py\u001b[0m in \u001b[0;36m__call__\u001b[0;34m(self, *args)\u001b[0m\n\u001b[1;32m   1319\u001b[0m \u001b[0;34m\u001b[0m\u001b[0m\n\u001b[1;32m   1320\u001b[0m         \u001b[0manswer\u001b[0m \u001b[0;34m=\u001b[0m \u001b[0mself\u001b[0m\u001b[0;34m.\u001b[0m\u001b[0mgateway_client\u001b[0m\u001b[0;34m.\u001b[0m\u001b[0msend_command\u001b[0m\u001b[0;34m(\u001b[0m\u001b[0mcommand\u001b[0m\u001b[0;34m)\u001b[0m\u001b[0;34m\u001b[0m\u001b[0;34m\u001b[0m\u001b[0m\n\u001b[0;32m-> 1321\u001b[0;31m         return_value = get_return_value(\n\u001b[0m\u001b[1;32m   1322\u001b[0m             answer, self.gateway_client, self.target_id, self.name)\n\u001b[1;32m   1323\u001b[0m \u001b[0;34m\u001b[0m\u001b[0m\n",
      "\u001b[0;32m/usr/local/anaconda3/lib/python3.8/site-packages/pyspark/sql/utils.py\u001b[0m in \u001b[0;36mdeco\u001b[0;34m(*a, **kw)\u001b[0m\n\u001b[1;32m    115\u001b[0m                 \u001b[0;31m# Hide where the exception came from that shows a non-Pythonic\u001b[0m\u001b[0;34m\u001b[0m\u001b[0;34m\u001b[0m\u001b[0;34m\u001b[0m\u001b[0m\n\u001b[1;32m    116\u001b[0m                 \u001b[0;31m# JVM exception message.\u001b[0m\u001b[0;34m\u001b[0m\u001b[0;34m\u001b[0m\u001b[0;34m\u001b[0m\u001b[0m\n\u001b[0;32m--> 117\u001b[0;31m                 \u001b[0;32mraise\u001b[0m \u001b[0mconverted\u001b[0m \u001b[0;32mfrom\u001b[0m \u001b[0;32mNone\u001b[0m\u001b[0;34m\u001b[0m\u001b[0;34m\u001b[0m\u001b[0m\n\u001b[0m\u001b[1;32m    118\u001b[0m             \u001b[0;32melse\u001b[0m\u001b[0;34m:\u001b[0m\u001b[0;34m\u001b[0m\u001b[0;34m\u001b[0m\u001b[0m\n\u001b[1;32m    119\u001b[0m                 \u001b[0;32mraise\u001b[0m\u001b[0;34m\u001b[0m\u001b[0;34m\u001b[0m\u001b[0m\n",
      "\u001b[0;31mAnalysisException\u001b[0m: Resolved attribute(s) smoker#514 missing from total_bill#511,tip#512,sex#513,smoker#679,day#515,time#516,size#517L in operator !Aggregate [smoker#514], [smoker#514, avg(cast(smoker#514 as double)) AS avg(smoker)#695]. Attribute(s) with the same name appear in the operation: smoker. Please check if the right attribute(s) are used.;\n!Aggregate [smoker#514], [smoker#514, avg(cast(smoker#514 as double)) AS avg(smoker)#695]\n+- Project [total_bill#511, tip#512, sex#513, Yes AS smoker#679, day#515, time#516, size#517L]\n   +- LogicalRDD [total_bill#511, tip#512, sex#513, smoker#514, day#515, time#516, size#517L], false\n"
     ]
    }
   ],
   "source": [
    "tips.groupBy(tips.smoker).agg(avg(tips.smoker)).show()"
   ]
  },
  {
   "cell_type": "code",
   "execution_count": 66,
   "id": "44d3a369",
   "metadata": {},
   "outputs": [
    {
     "name": "stdout",
     "output_type": "stream",
     "text": [
      "+----------+----+------+------+---+------+----+\n",
      "|total_bill| tip|   sex|smoker|day|  time|size|\n",
      "+----------+----+------+------+---+------+----+\n",
      "|     16.99|1.01|Female|   Yes|Sun|Dinner|   2|\n",
      "|     10.34|1.66|  Male|   Yes|Sun|Dinner|   3|\n",
      "|     21.01| 3.5|  Male|   Yes|Sun|Dinner|   3|\n",
      "|     23.68|3.31|  Male|   Yes|Sun|Dinner|   2|\n",
      "|     24.59|3.61|Female|   Yes|Sun|Dinner|   4|\n",
      "|     25.29|4.71|  Male|   Yes|Sun|Dinner|   4|\n",
      "|      8.77| 2.0|  Male|   Yes|Sun|Dinner|   2|\n",
      "|     26.88|3.12|  Male|   Yes|Sun|Dinner|   4|\n",
      "|     15.04|1.96|  Male|   Yes|Sun|Dinner|   2|\n",
      "|     14.78|3.23|  Male|   Yes|Sun|Dinner|   2|\n",
      "|     10.27|1.71|  Male|   Yes|Sun|Dinner|   2|\n",
      "|     35.26| 5.0|Female|   Yes|Sun|Dinner|   4|\n",
      "|     15.42|1.57|  Male|   Yes|Sun|Dinner|   2|\n",
      "|     18.43| 3.0|  Male|   Yes|Sun|Dinner|   4|\n",
      "|     14.83|3.02|Female|   Yes|Sun|Dinner|   2|\n",
      "|     21.58|3.92|  Male|   Yes|Sun|Dinner|   2|\n",
      "|     10.33|1.67|Female|   Yes|Sun|Dinner|   3|\n",
      "|     16.29|3.71|  Male|   Yes|Sun|Dinner|   3|\n",
      "|     16.97| 3.5|Female|   Yes|Sun|Dinner|   3|\n",
      "|     20.65|3.35|  Male|   Yes|Sat|Dinner|   3|\n",
      "+----------+----+------+------+---+------+----+\n",
      "only showing top 20 rows\n",
      "\n"
     ]
    }
   ],
   "source": [
    "tips.withColumn(\"smoker\", lit(\"Yes\")).gr"
   ]
  },
  {
   "cell_type": "code",
   "execution_count": 69,
   "id": "9c134450",
   "metadata": {},
   "outputs": [
    {
     "ename": "TypeError",
     "evalue": "Invalid argument, not a string or column: DataFrame[total_bill: double, tip: double, sex: string, smoker: string, day: string, time: string, size: bigint] of type <class 'pyspark.sql.dataframe.DataFrame'>. For column literals, use 'lit', 'array', 'struct' or 'create_map' function.",
     "output_type": "error",
     "traceback": [
      "\u001b[0;31m---------------------------------------------------------------------------\u001b[0m",
      "\u001b[0;31mTypeError\u001b[0m                                 Traceback (most recent call last)",
      "\u001b[0;32m<ipython-input-69-6f9213ddfb37>\u001b[0m in \u001b[0;36m<module>\u001b[0;34m\u001b[0m\n\u001b[0;32m----> 1\u001b[0;31m \u001b[0mtips\u001b[0m\u001b[0;34m.\u001b[0m\u001b[0mgroupBy\u001b[0m\u001b[0;34m(\u001b[0m\u001b[0mtips\u001b[0m\u001b[0;34m.\u001b[0m\u001b[0msmoker\u001b[0m\u001b[0;34m)\u001b[0m\u001b[0;34m.\u001b[0m\u001b[0magg\u001b[0m\u001b[0;34m(\u001b[0m\u001b[0mavg\u001b[0m\u001b[0;34m(\u001b[0m\u001b[0mtips\u001b[0m\u001b[0;34m.\u001b[0m\u001b[0mwithColumn\u001b[0m\u001b[0;34m(\u001b[0m\u001b[0;34m\"smoker\"\u001b[0m\u001b[0;34m,\u001b[0m \u001b[0mlit\u001b[0m\u001b[0;34m(\u001b[0m\u001b[0;34m\"Yes\"\u001b[0m\u001b[0;34m)\u001b[0m\u001b[0;34m)\u001b[0m\u001b[0;34m)\u001b[0m\u001b[0;34m)\u001b[0m\u001b[0;34m\u001b[0m\u001b[0;34m\u001b[0m\u001b[0m\n\u001b[0m",
      "\u001b[0;32m/usr/local/anaconda3/lib/python3.8/site-packages/pyspark/sql/functions.py\u001b[0m in \u001b[0;36mavg\u001b[0;34m(col)\u001b[0m\n\u001b[1;32m    193\u001b[0m     \u001b[0mAggregate\u001b[0m \u001b[0mfunction\u001b[0m\u001b[0;34m:\u001b[0m \u001b[0mreturns\u001b[0m \u001b[0mthe\u001b[0m \u001b[0maverage\u001b[0m \u001b[0mof\u001b[0m \u001b[0mthe\u001b[0m \u001b[0mvalues\u001b[0m \u001b[0;32min\u001b[0m \u001b[0ma\u001b[0m \u001b[0mgroup\u001b[0m\u001b[0;34m.\u001b[0m\u001b[0;34m\u001b[0m\u001b[0;34m\u001b[0m\u001b[0m\n\u001b[1;32m    194\u001b[0m     \"\"\"\n\u001b[0;32m--> 195\u001b[0;31m     \u001b[0;32mreturn\u001b[0m \u001b[0m_invoke_function_over_column\u001b[0m\u001b[0;34m(\u001b[0m\u001b[0;34m\"avg\"\u001b[0m\u001b[0;34m,\u001b[0m \u001b[0mcol\u001b[0m\u001b[0;34m)\u001b[0m\u001b[0;34m\u001b[0m\u001b[0;34m\u001b[0m\u001b[0m\n\u001b[0m\u001b[1;32m    196\u001b[0m \u001b[0;34m\u001b[0m\u001b[0m\n\u001b[1;32m    197\u001b[0m \u001b[0;34m\u001b[0m\u001b[0m\n",
      "\u001b[0;32m/usr/local/anaconda3/lib/python3.8/site-packages/pyspark/sql/functions.py\u001b[0m in \u001b[0;36m_invoke_function_over_column\u001b[0;34m(name, col)\u001b[0m\n\u001b[1;32m     64\u001b[0m     \u001b[0;32mand\u001b[0m \u001b[0mwraps\u001b[0m \u001b[0mthe\u001b[0m \u001b[0mresult\u001b[0m \u001b[0;32mwith\u001b[0m \u001b[0;34m:\u001b[0m\u001b[0;32mclass\u001b[0m\u001b[0;34m:\u001b[0m\u001b[0;31m`\u001b[0m\u001b[0;34m~\u001b[0m\u001b[0mpyspark\u001b[0m\u001b[0;34m.\u001b[0m\u001b[0msql\u001b[0m\u001b[0;34m.\u001b[0m\u001b[0mColumn\u001b[0m\u001b[0;31m`\u001b[0m\u001b[0;34m.\u001b[0m\u001b[0;34m\u001b[0m\u001b[0;34m\u001b[0m\u001b[0m\n\u001b[1;32m     65\u001b[0m     \"\"\"\n\u001b[0;32m---> 66\u001b[0;31m     \u001b[0;32mreturn\u001b[0m \u001b[0m_invoke_function\u001b[0m\u001b[0;34m(\u001b[0m\u001b[0mname\u001b[0m\u001b[0;34m,\u001b[0m \u001b[0m_to_java_column\u001b[0m\u001b[0;34m(\u001b[0m\u001b[0mcol\u001b[0m\u001b[0;34m)\u001b[0m\u001b[0;34m)\u001b[0m\u001b[0;34m\u001b[0m\u001b[0;34m\u001b[0m\u001b[0m\n\u001b[0m\u001b[1;32m     67\u001b[0m \u001b[0;34m\u001b[0m\u001b[0m\n\u001b[1;32m     68\u001b[0m \u001b[0;34m\u001b[0m\u001b[0m\n",
      "\u001b[0;32m/usr/local/anaconda3/lib/python3.8/site-packages/pyspark/sql/column.py\u001b[0m in \u001b[0;36m_to_java_column\u001b[0;34m(col)\u001b[0m\n\u001b[1;32m     43\u001b[0m         \u001b[0mjcol\u001b[0m \u001b[0;34m=\u001b[0m \u001b[0m_create_column_from_name\u001b[0m\u001b[0;34m(\u001b[0m\u001b[0mcol\u001b[0m\u001b[0;34m)\u001b[0m\u001b[0;34m\u001b[0m\u001b[0;34m\u001b[0m\u001b[0m\n\u001b[1;32m     44\u001b[0m     \u001b[0;32melse\u001b[0m\u001b[0;34m:\u001b[0m\u001b[0;34m\u001b[0m\u001b[0;34m\u001b[0m\u001b[0m\n\u001b[0;32m---> 45\u001b[0;31m         raise TypeError(\n\u001b[0m\u001b[1;32m     46\u001b[0m             \u001b[0;34m\"Invalid argument, not a string or column: \"\u001b[0m\u001b[0;34m\u001b[0m\u001b[0;34m\u001b[0m\u001b[0m\n\u001b[1;32m     47\u001b[0m             \u001b[0;34m\"{0} of type {1}. \"\u001b[0m\u001b[0;34m\u001b[0m\u001b[0;34m\u001b[0m\u001b[0m\n",
      "\u001b[0;31mTypeError\u001b[0m: Invalid argument, not a string or column: DataFrame[total_bill: double, tip: double, sex: string, smoker: string, day: string, time: string, size: bigint] of type <class 'pyspark.sql.dataframe.DataFrame'>. For column literals, use 'lit', 'array', 'struct' or 'create_map' function."
     ]
    }
   ],
   "source": [
    "tips.groupBy(tips.smoker).agg(avg(tips.withColumn(\"smoker\", lit(\"Yes\"))))"
   ]
  },
  {
   "cell_type": "code",
   "execution_count": 74,
   "id": "d1e3165c",
   "metadata": {},
   "outputs": [
    {
     "name": "stdout",
     "output_type": "stream",
     "text": [
      "+----------+----+------+------+---+------+----+\n",
      "|total_bill| tip|   sex|smoker|day|  time|size|\n",
      "+----------+----+------+------+---+------+----+\n",
      "|     16.99|1.01|Female|    No|Sun|Dinner|   2|\n",
      "|     10.34|1.66|  Male|    No|Sun|Dinner|   3|\n",
      "|     21.01| 3.5|  Male|    No|Sun|Dinner|   3|\n",
      "|     23.68|3.31|  Male|    No|Sun|Dinner|   2|\n",
      "|     24.59|3.61|Female|    No|Sun|Dinner|   4|\n",
      "+----------+----+------+------+---+------+----+\n",
      "only showing top 5 rows\n",
      "\n"
     ]
    }
   ],
   "source": [
    "tips.show(5)"
   ]
  },
  {
   "cell_type": "code",
   "execution_count": 73,
   "id": "d34e7493",
   "metadata": {},
   "outputs": [
    {
     "name": "stdout",
     "output_type": "stream",
     "text": [
      "+------+-----+\n",
      "|smoker|ratio|\n",
      "+------+-----+\n",
      "|    No| null|\n",
      "|    No| null|\n",
      "|    No| null|\n",
      "|    No| null|\n",
      "|    No| null|\n",
      "|    No| null|\n",
      "|    No| null|\n",
      "|    No| null|\n",
      "|    No| null|\n",
      "|    No| null|\n",
      "|    No| null|\n",
      "|    No| null|\n",
      "|    No| null|\n",
      "|    No| null|\n",
      "|    No| null|\n",
      "|    No| null|\n",
      "|    No| null|\n",
      "|    No| null|\n",
      "|    No| null|\n",
      "|    No| null|\n",
      "+------+-----+\n",
      "only showing top 20 rows\n",
      "\n"
     ]
    }
   ],
   "source": [
    "tips.select(tips.smoker).withColumn(\"ratio\", tips.smoker / lit(\"Yes\")).show()"
   ]
  },
  {
   "cell_type": "code",
   "execution_count": 75,
   "id": "96b02042",
   "metadata": {},
   "outputs": [
    {
     "name": "stdout",
     "output_type": "stream",
     "text": [
      "+------+-----+\n",
      "|smoker|count|\n",
      "+------+-----+\n",
      "|    No|  151|\n",
      "|   Yes|   93|\n",
      "+------+-----+\n",
      "\n"
     ]
    }
   ],
   "source": [
    "tips.groupBy(\"smoker\").count().show()"
   ]
  },
  {
   "cell_type": "code",
   "execution_count": 89,
   "id": "1b005368",
   "metadata": {},
   "outputs": [
    {
     "name": "stdout",
     "output_type": "stream",
     "text": [
      "+------+-----+-------+\n",
      "|smoker|count|percent|\n",
      "+------+-----+-------+\n",
      "|    No|  151|  61.89|\n",
      "|   Yes|   93|  38.11|\n",
      "+------+-----+-------+\n",
      "\n"
     ]
    }
   ],
   "source": [
    "tips.groupBy(\"smoker\").count().withColumn(\"percent\", round((col(\"count\") / tips.count())* 100, 2)).show()\n",
    "                                          "
   ]
  },
  {
   "cell_type": "code",
   "execution_count": 90,
   "id": "c6ce490b",
   "metadata": {},
   "outputs": [],
   "source": [
    "#part b"
   ]
  },
  {
   "cell_type": "code",
   "execution_count": 91,
   "id": "2513a162",
   "metadata": {},
   "outputs": [
    {
     "name": "stdout",
     "output_type": "stream",
     "text": [
      "+----------+----+------+------+---+------+----+\n",
      "|total_bill| tip|   sex|smoker|day|  time|size|\n",
      "+----------+----+------+------+---+------+----+\n",
      "|     16.99|1.01|Female|    No|Sun|Dinner|   2|\n",
      "|     10.34|1.66|  Male|    No|Sun|Dinner|   3|\n",
      "|     21.01| 3.5|  Male|    No|Sun|Dinner|   3|\n",
      "|     23.68|3.31|  Male|    No|Sun|Dinner|   2|\n",
      "|     24.59|3.61|Female|    No|Sun|Dinner|   4|\n",
      "+----------+----+------+------+---+------+----+\n",
      "only showing top 5 rows\n",
      "\n"
     ]
    }
   ],
   "source": [
    "tips.show(5)"
   ]
  },
  {
   "cell_type": "code",
   "execution_count": 98,
   "id": "4e7d3604",
   "metadata": {},
   "outputs": [
    {
     "name": "stdout",
     "output_type": "stream",
     "text": [
      "+----------+----+------+------+---+------+----+-------------------+\n",
      "|total_bill| tip|   sex|smoker|day|  time|size|         tip_percnt|\n",
      "+----------+----+------+------+---+------+----+-------------------+\n",
      "|     16.99|1.01|Female|    No|Sun|Dinner|   2|0.05944673337257211|\n",
      "|     10.34|1.66|  Male|    No|Sun|Dinner|   3|0.16054158607350097|\n",
      "|     21.01| 3.5|  Male|    No|Sun|Dinner|   3|0.16658733936220846|\n",
      "|     23.68|3.31|  Male|    No|Sun|Dinner|   2| 0.1397804054054054|\n",
      "|     24.59|3.61|Female|    No|Sun|Dinner|   4|0.14680764538430255|\n",
      "|     25.29|4.71|  Male|    No|Sun|Dinner|   4|0.18623962040332148|\n",
      "|      8.77| 2.0|  Male|    No|Sun|Dinner|   2|0.22805017103762829|\n",
      "|     26.88|3.12|  Male|    No|Sun|Dinner|   4|0.11607142857142858|\n",
      "|     15.04|1.96|  Male|    No|Sun|Dinner|   2|0.13031914893617022|\n",
      "|     14.78|3.23|  Male|    No|Sun|Dinner|   2| 0.2185385656292287|\n",
      "|     10.27|1.71|  Male|    No|Sun|Dinner|   2| 0.1665043816942551|\n",
      "|     35.26| 5.0|Female|    No|Sun|Dinner|   4|0.14180374361883155|\n",
      "|     15.42|1.57|  Male|    No|Sun|Dinner|   2|0.10181582360570687|\n",
      "|     18.43| 3.0|  Male|    No|Sun|Dinner|   4|0.16277807921866522|\n",
      "|     14.83|3.02|Female|    No|Sun|Dinner|   2|0.20364126770060686|\n",
      "|     21.58|3.92|  Male|    No|Sun|Dinner|   2|0.18164967562557924|\n",
      "|     10.33|1.67|Female|    No|Sun|Dinner|   3| 0.1616650532429816|\n",
      "|     16.29|3.71|  Male|    No|Sun|Dinner|   3|0.22774708410067526|\n",
      "|     16.97| 3.5|Female|    No|Sun|Dinner|   3|0.20624631703005306|\n",
      "|     20.65|3.35|  Male|    No|Sat|Dinner|   3|0.16222760290556903|\n",
      "+----------+----+------+------+---+------+----+-------------------+\n",
      "only showing top 20 rows\n",
      "\n"
     ]
    }
   ],
   "source": [
    "tips.withColumn(\"tip_percnt\", col(\"tip\")/ col(\"total_bill\")).show()"
   ]
  },
  {
   "cell_type": "code",
   "execution_count": null,
   "id": "1ac3bda6",
   "metadata": {},
   "outputs": [],
   "source": [
    "#part c"
   ]
  },
  {
   "cell_type": "code",
   "execution_count": 103,
   "id": "6b8be894",
   "metadata": {},
   "outputs": [
    {
     "name": "stdout",
     "output_type": "stream",
     "text": [
      "+------+-----------------+-----------------+\n",
      "|   sex|               No|              Yes|\n",
      "+------+-----------------+-----------------+\n",
      "|Female|2.773518518518518|2.931515151515151|\n",
      "|  Male| 3.11340206185567|3.051166666666667|\n",
      "+------+-----------------+-----------------+\n",
      "\n"
     ]
    }
   ],
   "source": [
    "tips.withColumn(\"tip_percnt\", col(\"tip\")/ col(\"total_bill\")).groupby(\"sex\").pivot(\"smoker\").avg(\"tip\").show()"
   ]
  },
  {
   "cell_type": "markdown",
   "id": "d5ed0f17",
   "metadata": {},
   "source": [
    "# Part 4"
   ]
  },
  {
   "cell_type": "code",
   "execution_count": 105,
   "id": "01cb83c3",
   "metadata": {},
   "outputs": [
    {
     "name": "stdout",
     "output_type": "stream",
     "text": [
      "+-------------------+-------------+--------+--------+----+-------+----------+\n",
      "|               date|precipitation|temp_max|temp_min|wind|weather|      data|\n",
      "+-------------------+-------------+--------+--------+----+-------+----------+\n",
      "|2012-01-01 00:00:00|          0.0|    12.8|     5.0| 4.7|drizzle|2012-01-01|\n",
      "|2012-01-02 00:00:00|         10.9|    10.6|     2.8| 4.5|   rain|2012-01-02|\n",
      "|2012-01-03 00:00:00|          0.8|    11.7|     7.2| 2.3|   rain|2012-01-03|\n",
      "|2012-01-04 00:00:00|         20.3|    12.2|     5.6| 4.7|   rain|2012-01-04|\n",
      "|2012-01-05 00:00:00|          1.3|     8.9|     2.8| 6.1|   rain|2012-01-05|\n",
      "+-------------------+-------------+--------+--------+----+-------+----------+\n",
      "only showing top 5 rows\n",
      "\n"
     ]
    }
   ],
   "source": [
    "from vega_datasets import data\n",
    "\n",
    "weather = data.seattle_weather().assign(data = lambda df: df.date.astype(str))\n",
    "weather = spark.createDataFrame(weather)\n",
    "\n",
    "weather.show(5)"
   ]
  },
  {
   "cell_type": "code",
   "execution_count": 106,
   "id": "5fb40e43",
   "metadata": {},
   "outputs": [],
   "source": [
    "#part a"
   ]
  },
  {
   "cell_type": "code",
   "execution_count": 108,
   "id": "a1e1ad69",
   "metadata": {},
   "outputs": [
    {
     "name": "stdout",
     "output_type": "stream",
     "text": [
      "+-------------------+-------------+--------+--------+----+-------+----------+-----------+-------------+\n",
      "|               date|precipitation|temp_max|temp_min|wind|weather|      data|temp_m_fahr|temp_min_fahr|\n",
      "+-------------------+-------------+--------+--------+----+-------+----------+-----------+-------------+\n",
      "|2012-01-01 00:00:00|          0.0|    12.8|     5.0| 4.7|drizzle|2012-01-01|       44.8|         37.0|\n",
      "|2012-01-02 00:00:00|         10.9|    10.6|     2.8| 4.5|   rain|2012-01-02|       42.6|         34.8|\n",
      "|2012-01-03 00:00:00|          0.8|    11.7|     7.2| 2.3|   rain|2012-01-03|       43.7|         39.2|\n",
      "|2012-01-04 00:00:00|         20.3|    12.2|     5.6| 4.7|   rain|2012-01-04|       44.2|         37.6|\n",
      "|2012-01-05 00:00:00|          1.3|     8.9|     2.8| 6.1|   rain|2012-01-05|       40.9|         34.8|\n",
      "|2012-01-06 00:00:00|          2.5|     4.4|     2.2| 2.2|   rain|2012-01-06|       36.4|         34.2|\n",
      "|2012-01-07 00:00:00|          0.0|     7.2|     2.8| 2.3|   rain|2012-01-07|       39.2|         34.8|\n",
      "|2012-01-08 00:00:00|          0.0|    10.0|     2.8| 2.0|    sun|2012-01-08|       42.0|         34.8|\n",
      "|2012-01-09 00:00:00|          4.3|     9.4|     5.0| 3.4|   rain|2012-01-09|       41.4|         37.0|\n",
      "|2012-01-10 00:00:00|          1.0|     6.1|     0.6| 3.4|   rain|2012-01-10|       38.1|         32.6|\n",
      "|2012-01-11 00:00:00|          0.0|     6.1|    -1.1| 5.1|    sun|2012-01-11|       38.1|         30.9|\n",
      "|2012-01-12 00:00:00|          0.0|     6.1|    -1.7| 1.9|    sun|2012-01-12|       38.1|         30.3|\n",
      "|2012-01-13 00:00:00|          0.0|     5.0|    -2.8| 1.3|    sun|2012-01-13|       37.0|         29.2|\n",
      "|2012-01-14 00:00:00|          4.1|     4.4|     0.6| 5.3|   snow|2012-01-14|       36.4|         32.6|\n",
      "|2012-01-15 00:00:00|          5.3|     1.1|    -3.3| 3.2|   snow|2012-01-15|       33.1|         28.7|\n",
      "|2012-01-16 00:00:00|          2.5|     1.7|    -2.8| 5.0|   snow|2012-01-16|       33.7|         29.2|\n",
      "|2012-01-17 00:00:00|          8.1|     3.3|     0.0| 5.6|   snow|2012-01-17|       35.3|         32.0|\n",
      "|2012-01-18 00:00:00|         19.8|     0.0|    -2.8| 5.0|   snow|2012-01-18|       32.0|         29.2|\n",
      "|2012-01-19 00:00:00|         15.2|    -1.1|    -2.8| 1.6|   snow|2012-01-19|       30.9|         29.2|\n",
      "|2012-01-20 00:00:00|         13.5|     7.2|    -1.1| 2.3|   snow|2012-01-20|       39.2|         30.9|\n",
      "+-------------------+-------------+--------+--------+----+-------+----------+-----------+-------------+\n",
      "only showing top 20 rows\n",
      "\n"
     ]
    }
   ],
   "source": [
    "weather.withColumn('temp_m_fahr', col('temp_max') + 32).withColumn('temp_min_fahr', col('temp_min') + 32).show()"
   ]
  },
  {
   "cell_type": "code",
   "execution_count": 109,
   "id": "0cde22bb",
   "metadata": {},
   "outputs": [
    {
     "name": "stdout",
     "output_type": "stream",
     "text": [
      "+-------------------+-------------+----+-------+----------+--------+\n",
      "|               date|precipitation|wind|weather|      data|temp_avg|\n",
      "+-------------------+-------------+----+-------+----------+--------+\n",
      "|2012-01-01 00:00:00|          0.0| 4.7|drizzle|2012-01-01|     9.0|\n",
      "|2012-01-02 00:00:00|         10.9| 4.5|   rain|2012-01-02|     6.5|\n",
      "|2012-01-03 00:00:00|          0.8| 2.3|   rain|2012-01-03|     9.5|\n",
      "|2012-01-04 00:00:00|         20.3| 4.7|   rain|2012-01-04|     9.0|\n",
      "|2012-01-05 00:00:00|          1.3| 6.1|   rain|2012-01-05|     6.0|\n",
      "+-------------------+-------------+----+-------+----------+--------+\n",
      "only showing top 5 rows\n",
      "\n"
     ]
    }
   ],
   "source": [
    "weather = weather.withColumn(\"temp_avg\", expr(\"ROUND(temp_min + temp_max) / 2\")).drop(\"temp_max\", \"temp_min\")\n",
    "\n",
    "weather.show(5)"
   ]
  },
  {
   "cell_type": "code",
   "execution_count": 112,
   "id": "5aa5bf61",
   "metadata": {},
   "outputs": [
    {
     "name": "stdout",
     "output_type": "stream",
     "text": [
      "+-------------------+-------------+----+-------+----------+--------+---------+\n",
      "|               date|precipitation|wind|weather|      data|temp_avg|temp_fahr|\n",
      "+-------------------+-------------+----+-------+----------+--------+---------+\n",
      "|2012-01-01 00:00:00|          0.0| 4.7|drizzle|2012-01-01|     9.0|     41.0|\n",
      "|2012-01-02 00:00:00|         10.9| 4.5|   rain|2012-01-02|     6.5|     38.5|\n",
      "|2012-01-03 00:00:00|          0.8| 2.3|   rain|2012-01-03|     9.5|     41.5|\n",
      "|2012-01-04 00:00:00|         20.3| 4.7|   rain|2012-01-04|     9.0|     41.0|\n",
      "|2012-01-05 00:00:00|          1.3| 6.1|   rain|2012-01-05|     6.0|     38.0|\n",
      "|2012-01-06 00:00:00|          2.5| 2.2|   rain|2012-01-06|     3.5|     35.5|\n",
      "|2012-01-07 00:00:00|          0.0| 2.3|   rain|2012-01-07|     5.0|     37.0|\n",
      "|2012-01-08 00:00:00|          0.0| 2.0|    sun|2012-01-08|     6.5|     38.5|\n",
      "|2012-01-09 00:00:00|          4.3| 3.4|   rain|2012-01-09|     7.0|     39.0|\n",
      "|2012-01-10 00:00:00|          1.0| 3.4|   rain|2012-01-10|     3.5|     35.5|\n",
      "|2012-01-11 00:00:00|          0.0| 5.1|    sun|2012-01-11|     2.5|     34.5|\n",
      "|2012-01-12 00:00:00|          0.0| 1.9|    sun|2012-01-12|     2.0|     34.0|\n",
      "|2012-01-13 00:00:00|          0.0| 1.3|    sun|2012-01-13|     1.0|     33.0|\n",
      "|2012-01-14 00:00:00|          4.1| 5.3|   snow|2012-01-14|     2.5|     34.5|\n",
      "|2012-01-15 00:00:00|          5.3| 3.2|   snow|2012-01-15|    -1.0|     31.0|\n",
      "|2012-01-16 00:00:00|          2.5| 5.0|   snow|2012-01-16|    -0.5|     31.5|\n",
      "|2012-01-17 00:00:00|          8.1| 5.6|   snow|2012-01-17|     1.5|     33.5|\n",
      "|2012-01-18 00:00:00|         19.8| 5.0|   snow|2012-01-18|    -1.5|     30.5|\n",
      "|2012-01-19 00:00:00|         15.2| 1.6|   snow|2012-01-19|    -2.0|     30.0|\n",
      "|2012-01-20 00:00:00|         13.5| 2.3|   snow|2012-01-20|     3.0|     35.0|\n",
      "+-------------------+-------------+----+-------+----------+--------+---------+\n",
      "only showing top 20 rows\n",
      "\n"
     ]
    }
   ],
   "source": [
    "weather.withColumn('temp_fahr', col('temp_avg') + 32).show()"
   ]
  },
  {
   "cell_type": "code",
   "execution_count": 113,
   "id": "3c2f9a44",
   "metadata": {},
   "outputs": [],
   "source": [
    "# part b\n",
    "# which month has the most rain on avearage"
   ]
  },
  {
   "cell_type": "code",
   "execution_count": 124,
   "id": "2783a58e",
   "metadata": {},
   "outputs": [
    {
     "name": "stdout",
     "output_type": "stream",
     "text": [
      "+-----+-------------------+\n",
      "|month|       avg_rainfall|\n",
      "+-----+-------------------+\n",
      "|    1| 3.7580645161290316|\n",
      "|    2|  3.734513274336283|\n",
      "|    3|  4.888709677419355|\n",
      "|    4|  3.128333333333333|\n",
      "|    5| 1.6733870967741935|\n",
      "|    6| 1.1075000000000002|\n",
      "|    7|0.38870967741935486|\n",
      "|    8| 1.3201612903225806|\n",
      "|    9| 1.9624999999999997|\n",
      "|   10|  4.059677419354839|\n",
      "|   11|  5.354166666666667|\n",
      "|   12|  5.021774193548389|\n",
      "+-----+-------------------+\n",
      "\n"
     ]
    }
   ],
   "source": [
    "(\n",
    "weather.withColumn(\"month\", month(\"date\"))\n",
    "    .groupBy(\"month\")\n",
    "    .agg(avg(\"precipitation\").alias(\"avg_rainfall\"))\n",
    "    .sort(\"month\").show()\n",
    ")"
   ]
  },
  {
   "cell_type": "code",
   "execution_count": 125,
   "id": "46489cd0",
   "metadata": {},
   "outputs": [],
   "source": [
    "#part c\n",
    "# which year was the windiest"
   ]
  },
  {
   "cell_type": "code",
   "execution_count": null,
   "id": "32390893",
   "metadata": {},
   "outputs": [],
   "source": []
  },
  {
   "cell_type": "code",
   "execution_count": null,
   "id": "9bd5224e",
   "metadata": {},
   "outputs": [],
   "source": []
  },
  {
   "cell_type": "code",
   "execution_count": null,
   "id": "2745fa73",
   "metadata": {},
   "outputs": [],
   "source": []
  },
  {
   "cell_type": "code",
   "execution_count": null,
   "id": "3d4f61f9",
   "metadata": {},
   "outputs": [],
   "source": []
  },
  {
   "cell_type": "code",
   "execution_count": 126,
   "id": "7f1833d9",
   "metadata": {},
   "outputs": [],
   "source": [
    "#part d\n",
    "# what is the most frequesnt type of weather in january"
   ]
  },
  {
   "cell_type": "code",
   "execution_count": 127,
   "id": "ee0b2522",
   "metadata": {},
   "outputs": [],
   "source": [
    "#part e\n",
    "# what is the avg high and low temp on a sunny days in july in 2013 and 2014"
   ]
  },
  {
   "cell_type": "code",
   "execution_count": 128,
   "id": "178d6fdb",
   "metadata": {},
   "outputs": [],
   "source": [
    "#part f\n",
    "# what percentage of days were rainy in q3 of 2015"
   ]
  },
  {
   "cell_type": "code",
   "execution_count": null,
   "id": "0724c2fe",
   "metadata": {},
   "outputs": [],
   "source": [
    "#part g\n",
    "# for each year, find what percentage of days it rained"
   ]
  }
 ],
 "metadata": {
  "kernelspec": {
   "display_name": "Python 3",
   "language": "python",
   "name": "python3"
  },
  "language_info": {
   "codemirror_mode": {
    "name": "ipython",
    "version": 3
   },
   "file_extension": ".py",
   "mimetype": "text/x-python",
   "name": "python",
   "nbconvert_exporter": "python",
   "pygments_lexer": "ipython3",
   "version": "3.8.8"
  }
 },
 "nbformat": 4,
 "nbformat_minor": 5
}
